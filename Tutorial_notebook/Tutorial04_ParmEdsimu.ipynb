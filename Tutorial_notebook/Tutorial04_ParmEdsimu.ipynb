{
 "cells": [
  {
   "cell_type": "markdown",
   "metadata": {},
   "source": [
    "# Using ParmEd with MDAnalysis and OpenMM to simulate a selection of atoms\n",
    "ref: [link](https://userguide.mdanalysis.org/stable/examples/other/parmed_sim.html)\n"
   ]
  },
  {
   "cell_type": "code",
   "execution_count": 1,
   "metadata": {},
   "outputs": [],
   "source": [
    "import warnings\n",
    "\n",
    "import parmed as pmd\n",
    "import MDAnalysis as mda\n",
    "\n",
    "from MDAnalysis.tests.datafiles import PRM7_ala2, RST7_ala2\n",
    "\n",
    "# suppress some MDAnalysis warnings when writing PDB files\n",
    "warnings.filterwarnings('ignore')\n",
    "home_path = \"/data/home/bty391/Project/QMUL_HPC_note_w_MDAnalysis/Tutorial_notebook\""
   ]
  },
  {
   "cell_type": "markdown",
   "metadata": {},
   "source": [
    "## Loading files: the difference between ParmEd and MDAnalysis\n",
    "\n",
    "Both ParmEd and MDAnalysis read a number of file formats. However, while MDAnalysis is typically used to analyse simulations, ParmEd is often used to set them up. This requires ParmEd to read topology parameter information that MDAnalysis typically ignores, such as the equilibrium length and force constants of bonds in the system. For example, the ParmEd structure below."
   ]
  },
  {
   "cell_type": "code",
   "execution_count": 2,
   "metadata": {},
   "outputs": [
    {
     "name": "stdout",
     "output_type": "stream",
     "text": [
      "pprm: \n",
      "<Bond <Atom C [10]; In ALA 0>--<Atom O [11]; In ALA 0>; type=<BondType; k=570.000, req=1.229>>\n"
     ]
    },
    {
     "data": {
      "text/plain": [
       "<AmberParm 3026 atoms; 1003 residues; 3025 bonds; PBC (orthogonal); parameterized>"
      ]
     },
     "execution_count": 2,
     "metadata": {},
     "output_type": "execute_result"
    }
   ],
   "source": [
    "pprm = pmd.load_file(PRM7_ala2, RST7_ala2)\n",
    "print(\"pprm: \")\n",
    "print(pprm.bonds[0])\n",
    "pprm\n"
   ]
  },
  {
   "cell_type": "code",
   "execution_count": 3,
   "metadata": {},
   "outputs": [
    {
     "name": "stdout",
     "output_type": "stream",
     "text": [
      "MDAnalysis: \n",
      "('N3', 'H')\n",
      "<Universe with 3026 atoms>\n",
      "<Structure 3026 atoms; 1003 residues; 3025 bonds; parameterized>\n",
      "<Bond <Atom N [0]; In ALA 0>--<Atom H1 [1]; In ALA 0>; type=None>\n"
     ]
    }
   ],
   "source": [
    "# When MDAnalysis reads these files in, \n",
    "# it does not include that information.\n",
    "mprm = mda.Universe(PRM7_ala2, RST7_ala2, format='RESTRT')\n",
    "print(\"MDAnalysis: \")\n",
    "print(mprm.atoms.bonds[0].type)\n",
    "print(mprm)\n",
    "\n",
    "# If you then convert this Universe to ParmEd, \n",
    "# you can see that the resulting Structure is not parametrized.\n",
    "mprm_converted = mprm.atoms.convert_to('PARMED')\n",
    "print(mprm_converted)\n",
    "\n",
    "# While the bonds are present, there is no type information associated.\n",
    "print(mprm_converted.bonds[0])"
   ]
  },
  {
   "cell_type": "markdown",
   "metadata": {},
   "source": [
    "Therefore, if you wish to use ParmEd functionality that requires parametrization on a MDAnalysis Universe, you need to create that Universe from a ParmEd structure in order to convert it back to something useable in ParmEd."
   ]
  },
  {
   "cell_type": "code",
   "execution_count": 4,
   "metadata": {},
   "outputs": [
    {
     "data": {
      "text/plain": [
       "<Universe with 3026 atoms>"
      ]
     },
     "execution_count": 4,
     "metadata": {},
     "output_type": "execute_result"
    }
   ],
   "source": [
    "mprm_from_parmed = mda.Universe(pprm)\n",
    "mprm_from_parmed"
   ]
  },
  {
   "cell_type": "code",
   "execution_count": 5,
   "metadata": {},
   "outputs": [
    {
     "data": {
      "text/plain": [
       "<Bond <Atom N [0]; In ALA 0>--<Atom H1 [1]; In ALA 0>; type=<BondType; k=434.000, req=1.010>>"
      ]
     },
     "execution_count": 5,
     "metadata": {},
     "output_type": "execute_result"
    }
   ],
   "source": [
    "mprm_from_parmed.bonds[0].type"
   ]
  },
  {
   "cell_type": "markdown",
   "metadata": {},
   "source": [
    "## Using MDAnalysis to select atoms\n",
    "One reason we might want to convert a ParmEd structure into MDAnalysis is to use its sophisticated atom selection syntax. While ParmEd has its own ways to select atoms, MDAnalysis allows you to select atoms based on geometric distance."
   ]
  },
  {
   "cell_type": "code",
   "execution_count": 6,
   "metadata": {},
   "outputs": [],
   "source": [
    "water = mprm_from_parmed.select_atoms('around 5 protein').residues.atoms\n",
    "protein_shell = mprm_from_parmed.select_atoms('protein') + water\n",
    "prm_protein_shell = protein_shell.convert_to('PARMED')"
   ]
  },
  {
   "cell_type": "code",
   "execution_count": 7,
   "metadata": {},
   "outputs": [
    {
     "data": {
      "text/plain": [
       "<Structure 155 atoms; 46 residues; 154 bonds; PBC (orthogonal); parameterized>"
      ]
     },
     "execution_count": 7,
     "metadata": {},
     "output_type": "execute_result"
    }
   ],
   "source": [
    "prm_protein_shell"
   ]
  },
  {
   "cell_type": "markdown",
   "metadata": {},
   "source": [
    "## Using ParmEd and OpenMM to create a simulation system"
   ]
  },
  {
   "cell_type": "code",
   "execution_count": 8,
   "metadata": {},
   "outputs": [],
   "source": [
    "import sys\n",
    "import openmm as mm\n",
    "import openmm.app as app\n",
    "\n",
    "from parmed import unit as u\n",
    "from parmed.openmm import StateDataReporter, MdcrdReporter"
   ]
  },
  {
   "cell_type": "code",
   "execution_count": 9,
   "metadata": {},
   "outputs": [],
   "source": [
    "# You can create an OpenMM simulation system directly from a ParmEd structure, \n",
    "# providing that it is parametrized.\n",
    "system = prm_protein_shell.createSystem(nonbondedMethod=app.NoCutoff,\n",
    "                                        constraints=app.HBonds,\n",
    "                                        implicitSolvent=app.GBn2)"
   ]
  },
  {
   "cell_type": "code",
   "execution_count": 10,
   "metadata": {},
   "outputs": [],
   "source": [
    "# Here we set the integrator to do Langevin dynamics.\n",
    "integrator = mm.LangevinIntegrator(\n",
    "                        300*u.kelvin,       # Temperature of heat bath\n",
    "                        1.0/u.picoseconds,  # Friction coefficient\n",
    "                        2.0*u.femtoseconds, # Time step\n",
    "                        )"
   ]
  },
  {
   "cell_type": "code",
   "execution_count": 11,
   "metadata": {},
   "outputs": [],
   "source": [
    "# We create the Simulation object and set particle positions.\n",
    "sim = app.Simulation(prm_protein_shell.topology, system, integrator)\n",
    "sim.context.setPositions(prm_protein_shell.positions)"
   ]
  },
  {
   "cell_type": "code",
   "execution_count": 12,
   "metadata": {},
   "outputs": [],
   "source": [
    "# We now minimise the energy.\n",
    "sim.minimizeEnergy(maxIterations=500)"
   ]
  },
  {
   "cell_type": "code",
   "execution_count": 13,
   "metadata": {},
   "outputs": [],
   "source": [
    "# The reporter below reports energies and coordinates every 100 steps to stdout, \n",
    "# but every 10 steps to the ala2_shell.trj file.\n",
    "\n",
    "sim.reporters.append(\n",
    "        StateDataReporter(sys.stdout, 100, step=True, potentialEnergy=True,\n",
    "                          kineticEnergy=True, temperature=True, volume=True,\n",
    "                          density=True)\n",
    ")\n",
    "sim.reporters.append(MdcrdReporter(f'{home_path}/output/ala2_shell.trj', 10, crds=True))"
   ]
  },
  {
   "cell_type": "code",
   "execution_count": 14,
   "metadata": {},
   "outputs": [
    {
     "name": "stdout",
     "output_type": "stream",
     "text": [
      "#\"Step\",\"Time (ps)\",\"Potential Energy (kilocalorie/mole)\",\"Kinetic Energy (kilocalorie/mole)\",\"Total Energy (kilocalorie/mole)\",\"Temperature (K)\",\"Box Volume (angstrom**3)\",\"Density (gram/(item*milliliter))\"\n",
      "100,0.20000000000000015,-619.358213230611,21.84976611869639,-597.5084471119146,69.15238436042476,45325.8064191062,0.034909350700361955\n",
      "200,0.4000000000000003,-609.3382492081217,41.66032046719123,-567.6779287409305,131.8508618296167,45325.8064191062,0.034909350700361955\n",
      "300,0.6000000000000004,-600.5994495359992,54.77432720122843,-545.8251223347706,173.35541749629516,45325.8064191062,0.034909350700361955\n",
      "400,0.8000000000000006,-598.1994333556703,68.07572574488663,-530.1237076107836,215.45305001214948,45325.8064191062,0.034909350700361955\n",
      "500,1.0000000000000007,-600.3997281640394,72.95647189804465,-527.4432562659947,230.90013681918143,45325.8064191062,0.034909350700361955\n"
     ]
    }
   ],
   "source": [
    "sim.step(500)"
   ]
  },
  {
   "cell_type": "code",
   "execution_count": 15,
   "metadata": {},
   "outputs": [
    {
     "data": {
      "text/plain": [
       "<TRJReader /data/home/bty391/Project/QMUL_HPC_note_w_MDAnalysis/Tutorial_notebook/output/ala2_shell.trj with 50 frames of 155 atoms>"
      ]
     },
     "execution_count": 15,
     "metadata": {},
     "output_type": "execute_result"
    }
   ],
   "source": [
    "# If we write a topology file out from our former protein_shell atomgroup, \n",
    "# we can load the trajectory in for further analysis.\n",
    "\n",
    "protein_shell.write(f'{home_path}/output/ala2_shell.pdb')\n",
    "u = mda.Universe(f'{home_path}/output/ala2_shell.pdb', f'{home_path}/output/ala2_shell.trj')\n",
    "u.trajectory"
   ]
  }
 ],
 "metadata": {
  "kernelspec": {
   "display_name": "mdanalysis",
   "language": "python",
   "name": "python3"
  },
  "language_info": {
   "codemirror_mode": {
    "name": "ipython",
    "version": 3
   },
   "file_extension": ".py",
   "mimetype": "text/x-python",
   "name": "python",
   "nbconvert_exporter": "python",
   "pygments_lexer": "ipython3",
   "version": "3.10.13"
  }
 },
 "nbformat": 4,
 "nbformat_minor": 2
}
