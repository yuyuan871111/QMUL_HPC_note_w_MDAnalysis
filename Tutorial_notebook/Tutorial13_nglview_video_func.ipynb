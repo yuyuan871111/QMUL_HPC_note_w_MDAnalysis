{
 "cells": [
  {
   "cell_type": "code",
   "execution_count": 1,
   "metadata": {},
   "outputs": [
    {
     "data": {
      "application/vnd.jupyter.widget-view+json": {
       "model_id": "a009f27b5bd245dc9345859e0ad42f36",
       "version_major": 2,
       "version_minor": 0
      },
      "text/plain": []
     },
     "metadata": {},
     "output_type": "display_data"
    }
   ],
   "source": [
    "import os\n",
    "import shutil\n",
    "import threading\n",
    "\n",
    "import nglview as nv\n",
    "import MDAnalysis as mda\n",
    "import moviepy.editor as mpy\n",
    "\n",
    "from MDAnalysis.tests.datafiles import PSF, DCD\n",
    "from nglview.contrib.movie import MovieMaker\n",
    "from time import sleep"
   ]
  },
  {
   "cell_type": "markdown",
   "metadata": {},
   "source": [
    "### loading files"
   ]
  },
  {
   "cell_type": "code",
   "execution_count": 2,
   "metadata": {},
   "outputs": [
    {
     "data": {
      "application/vnd.jupyter.widget-view+json": {
       "model_id": "06260bdf74d642deba4fb6aa32304988",
       "version_major": 2,
       "version_minor": 0
      },
      "text/plain": [
       "NGLWidget(max_frame=97)"
      ]
     },
     "metadata": {},
     "output_type": "display_data"
    }
   ],
   "source": [
    "u1 = mda.Universe(PSF, DCD)\n",
    "\n",
    "view = nv.show_mdanalysis(u1)\n",
    "view"
   ]
  },
  {
   "cell_type": "markdown",
   "metadata": {},
   "source": [
    "## Object"
   ]
  },
  {
   "cell_type": "code",
   "execution_count": 3,
   "metadata": {},
   "outputs": [],
   "source": [
    "# output folder\n",
    "output_folder = \"/home/yuyang/Project/QMUL_HPC_note_w_MDAnalysis/Tutorial_notebook/test\""
   ]
  },
  {
   "cell_type": "code",
   "execution_count": 4,
   "metadata": {},
   "outputs": [],
   "source": [
    "class MovieMaker:\n",
    "    def __init__(self, view: nv.widget.NGLWidget, output: str = '.', filename: str = \"sample\") -> None:\n",
    "        self.output = output\n",
    "        self.tempfolder = f'{output}/_temp'\n",
    "        self.view = view\n",
    "        self.total_frame = 10\n",
    "        self.frame_per_second = 3\n",
    "        self.filename = filename\n",
    "   \n",
    "    def generate(self):\n",
    "        # remove temp files\n",
    "        self._remove_temp_files()\n",
    "\n",
    "        # start a thread to generate images\n",
    "        thread = threading.Thread(\n",
    "            target = self._generate_images,\n",
    "        )\n",
    "        thread.daemon = True\n",
    "        thread.start()\n",
    "\n",
    "    def make(self): \n",
    "        # make sure to wait for the thread to finish\n",
    "        # while thread.is_alive():\n",
    "        #     if os.path.exists(f'{self.tempfolder}/0{self.filename}_{self.total_frame - 1}.png'):\n",
    "        #         break\n",
    "        #     else:\n",
    "        #         sleep(0.5)\n",
    "        \n",
    "        # make gif\n",
    "        self.total_frames = os.listdir(f'{output_folder}/_temp')\n",
    "        self._make_gif()\n",
    "\n",
    "        # remove temp files\n",
    "        self._remove_temp_files()\n",
    "  \n",
    "    def _load_images(self):\n",
    "        # get all (sorted) image files\n",
    "        self.imagefiles = [f'{self.tempfolder}/0{self.filename}_{i}.png' for i in range(0, self.total_frame, 2)]\n",
    "\n",
    "    # make a gif file\n",
    "    def _make_gif(self):\n",
    "        self._load_images()\n",
    "        \n",
    "        im = mpy.ImageSequenceClip(self.imagefiles, fps=self.frame_per_second)\n",
    "        im.write_gif(f'{self.output}/{self.filename}.gif', fps=self.frame_per_second)\n",
    "\n",
    "    def _remove_temp_files(self):\n",
    "        if os.path.exists(self.tempfolder):\n",
    "            shutil.rmtree(self.tempfolder)\n",
    "\n",
    "    def _generate_images(self):\n",
    "        images = [] # List[bytes]\n",
    "\n",
    "        for frame in range(0, self.total_frame):\n",
    "            # set frame to update coordinates\n",
    "            self.view.frame = frame\n",
    "            \n",
    "            # make sure to let NGL spending enough time to update coordinates\n",
    "            sleep(0.5)\n",
    "            im1 = self.view.render_image()\n",
    "            images.append(im1)\n",
    "\n",
    "        for im in images: # wait for browser to finish rendering\n",
    "            while not im.value:\n",
    "                sleep(0.1)\n",
    "\n",
    "        # check the output folder\n",
    "        if not os.path.exists(f'{self.output}/_temp'):\n",
    "            os.makedirs(self.tempfolder)\n",
    "\n",
    "        for n, im in zip(range(0, self.total_frame), images):\n",
    "            with open(f'{self.tempfolder}/0{self.filename}_{n}.png', 'wb') as fh:\n",
    "                fh.write(im.value)\n",
    "   "
   ]
  },
  {
   "cell_type": "code",
   "execution_count": 5,
   "metadata": {},
   "outputs": [],
   "source": [
    "my_building_block = MovieMaker(view, output_folder)\n",
    "my_building_block.generate()"
   ]
  },
  {
   "cell_type": "code",
   "execution_count": 7,
   "metadata": {},
   "outputs": [
    {
     "name": "stdout",
     "output_type": "stream",
     "text": [
      "\n",
      "[MoviePy] Building file /home/yuyang/Project/QMUL_HPC_note_w_MDAnalysis/Tutorial_notebook/test/sample.gif with imageio\n"
     ]
    },
    {
     "name": "stderr",
     "output_type": "stream",
     "text": [
      " 83%|████████▎ | 5/6 [00:00<00:00,  9.14it/s]\n"
     ]
    }
   ],
   "source": [
    "my_building_block.make()"
   ]
  },
  {
   "cell_type": "code",
   "execution_count": 12,
   "metadata": {},
   "outputs": [
    {
     "data": {
      "application/vnd.jupyter.widget-view+json": {
       "model_id": "b6dd41076e0f41c28b1272c5e0055539",
       "version_major": 2,
       "version_minor": 0
      },
      "text/plain": [
       "Image(value=b'', width='99%')"
      ]
     },
     "execution_count": 12,
     "metadata": {},
     "output_type": "execute_result"
    }
   ],
   "source": [
    "my_building_block.view.frame = 0\n",
    "my_building_block.view.render_image()"
   ]
  },
  {
   "cell_type": "markdown",
   "metadata": {},
   "source": [
    "## Display video in notebook"
   ]
  },
  {
   "cell_type": "code",
   "execution_count": 8,
   "metadata": {},
   "outputs": [
    {
     "data": {
      "text/html": [
       "<img src='/home/yuyang/Project/QMUL_HPC_note_w_MDAnalysis/Tutorial_notebook/test/sample.gif'></img>"
      ],
      "text/plain": [
       "<IPython.core.display.HTML object>"
      ]
     },
     "execution_count": 8,
     "metadata": {},
     "output_type": "execute_result"
    }
   ],
   "source": [
    "# display the gif in this notebook\n",
    "from IPython import display\n",
    "\n",
    "display.HTML(f\"<img src='{output_folder}/sample.gif'></img>\")"
   ]
  }
 ],
 "metadata": {
  "kernelspec": {
   "display_name": "mdanalysis2",
   "language": "python",
   "name": "python3"
  },
  "language_info": {
   "codemirror_mode": {
    "name": "ipython",
    "version": 3
   },
   "file_extension": ".py",
   "mimetype": "text/x-python",
   "name": "python",
   "nbconvert_exporter": "python",
   "pygments_lexer": "ipython3",
   "version": "3.10.13"
  }
 },
 "nbformat": 4,
 "nbformat_minor": 2
}
