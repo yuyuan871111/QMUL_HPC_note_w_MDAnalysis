{
 "cells": [
  {
   "cell_type": "markdown",
   "metadata": {},
   "source": [
    "# Constructing, modifying, and adding to a Universe\n",
    "Reference: [link](https://userguide.mdanalysis.org/stable/examples/constructing_universe.html#Creating-and-populating-a-Universe-with-water)\n",
    "\n",
    "Sometimes you may want to construct a Universe from scratch, or add attributes that are not read from a file. For example, you may want to group a Universe into chains, or create custom segments for protein domains.\n",
    "\n",
    "Throughout this tutorial we will include cells for visualising Universes with the NGLView library. However, these will be commented out, and we will show the expected images generated instead of the interactive widgets."
   ]
  },
  {
   "cell_type": "code",
   "execution_count": 1,
   "metadata": {},
   "outputs": [
    {
     "data": {
      "application/vnd.jupyter.widget-view+json": {
       "model_id": "4619327a5d3f44d1be76d532ccf927dc",
       "version_major": 2,
       "version_minor": 0
      },
      "text/plain": []
     },
     "metadata": {},
     "output_type": "display_data"
    },
    {
     "name": "stdout",
     "output_type": "stream",
     "text": [
      "Using MDAnalysis version 2.6.1\n",
      "Using NGLView version 3.0.8\n"
     ]
    }
   ],
   "source": [
    "import warnings\n",
    "\n",
    "import numpy as np\n",
    "import MDAnalysis as mda\n",
    "import nglview as nv\n",
    "\n",
    "from MDAnalysis.tests.datafiles import PDB_small\n",
    "from IPython.display import Image\n",
    "\n",
    "# suppress some MDAnalysis warnings when writing PDB files\n",
    "warnings.filterwarnings('ignore')\n",
    "\n",
    "print(\"Using MDAnalysis version\", mda.__version__)\n",
    "print(\"Using NGLView version\", nv.__version__)"
   ]
  },
  {
   "cell_type": "markdown",
   "metadata": {},
   "source": [
    "## Creating and populating a Universe with water"
   ]
  },
  {
   "cell_type": "markdown",
   "metadata": {},
   "source": [
    "### Creating a blank Universe\n",
    "The `Universe.empty()` method creates a blank Universe. The `natoms` (int) argument must be included. Optional arguments are:\n",
    "\n",
    "* `n_residues` (int): number of residues\n",
    "* `n_segments` (int): number of segments\n",
    "* `atom_resindex` (list): list of resindices for each atom\n",
    "* `residue_segindex` (list): list of segindices for each residue\n",
    "* `trajectory` (bool): whether to attach a MemoryReader trajectory (default `False`)\n",
    "* `velocities` (bool): whether to include velocities in the trajectory (default `False`)\n",
    "* `forces` (bool): whether to include forces in the trajectory (default `False`)\n",
    "\n",
    "We will create a Universe with 1000 water molecules."
   ]
  },
  {
   "cell_type": "code",
   "execution_count": 2,
   "metadata": {},
   "outputs": [
    {
     "name": "stdout",
     "output_type": "stream",
     "text": [
      "resindices: [0 0 0 1 1 1 2 2 2 3]\n",
      "segindices: [0, 0, 0, 0, 0, 0, 0, 0, 0, 0]\n"
     ]
    }
   ],
   "source": [
    "n_residues = 1000\n",
    "n_atoms = n_residues * 3\n",
    "\n",
    "# create resindex list\n",
    "resindices = np.repeat(range(n_residues), 3)\n",
    "assert len(resindices) == n_atoms\n",
    "print(\"resindices:\", resindices[:10])\n",
    "\n",
    "# all water molecules belong to 1 segment\n",
    "segindices = [0] * n_residues\n",
    "print(\"segindices:\", segindices[:10])"
   ]
  },
  {
   "cell_type": "code",
   "execution_count": 3,
   "metadata": {},
   "outputs": [
    {
     "data": {
      "text/plain": [
       "<Universe with 3000 atoms>"
      ]
     },
     "execution_count": 3,
     "metadata": {},
     "output_type": "execute_result"
    }
   ],
   "source": [
    "# create the Universe\n",
    "sol = mda.Universe.empty(n_atoms,\n",
    "                         n_residues=n_residues,\n",
    "                         atom_resindex=resindices,\n",
    "                         residue_segindex=segindices,\n",
    "                         trajectory=True) # necessary for adding coordinates\n",
    "sol"
   ]
  },
  {
   "cell_type": "markdown",
   "metadata": {},
   "source": [
    "### Adding topology attributes\n",
    "There isn’t much we can do with our current Universe because MDAnalysis has no information on the particle elements, positions, etc. We can add relevant information manually using TopologyAttrs."
   ]
  },
  {
   "cell_type": "code",
   "execution_count": 4,
   "metadata": {},
   "outputs": [
    {
     "name": "stdout",
     "output_type": "stream",
     "text": [
      "names:  ['O' 'H1' 'H2' ... 'O' 'H1' 'H2']\n",
      "types:  ['O' 'H' 'H' ... 'O' 'H' 'H']\n",
      "resnames:  ['SOL' 'SOL' 'SOL' ... 'SOL' 'SOL' 'SOL']\n",
      "resids:  [   1    1    1 ... 1000 1000 1000]\n",
      "segids:  ['SOL' 'SOL' 'SOL' ... 'SOL' 'SOL' 'SOL']\n"
     ]
    }
   ],
   "source": [
    "# names\n",
    "sol.add_TopologyAttr('name', ['O', 'H1', 'H2']*n_residues) \n",
    "print(\"names: \", sol.atoms.names)\n",
    "\n",
    "# elements (“types”)\n",
    "sol.add_TopologyAttr('type', ['O', 'H', 'H']*n_residues)\n",
    "print(\"types: \", sol.atoms.types)\n",
    "\n",
    "# residue names (\"resnames\")\n",
    "sol.add_TopologyAttr('resname', ['SOL']*n_residues)\n",
    "print(\"resnames: \", sol.atoms.resnames)\n",
    "\n",
    "# residue counter (\"resids\")\n",
    "sol.add_TopologyAttr('resid', range(1, n_residues+1))\n",
    "print(\"resids: \", sol.atoms.resids)\n",
    "\n",
    "# segment names (\"segids\")\n",
    "sol.add_TopologyAttr('segid', ['SOL'])\n",
    "print(\"segids: \", sol.atoms.segids)"
   ]
  },
  {
   "cell_type": "markdown",
   "metadata": {},
   "source": [
    "### Adding positions\n",
    "Positions can simply be assigned, without adding a topology attribute.\n",
    "\n",
    "The O-H bond length in water is around 0.96 Angstrom, and the bond angle is 104.45°. We can first obtain a set of coordinates for one molecule, and then translate it for every water molecule.\n"
   ]
  },
  {
   "cell_type": "code",
   "execution_count": 5,
   "metadata": {},
   "outputs": [
    {
     "name": "stdout",
     "output_type": "stream",
     "text": [
      "[array([0., 0., 0.]), array([ 0.95908, -0.02691,  0.03231]), array([-0.28004, -0.58767,  0.70556]), array([8., 0., 0.]), array([ 8.95908, -0.02691,  0.03231]), array([ 7.71996, -0.58767,  0.70556]), array([16.,  0.,  0.]), array([16.95908, -0.02691,  0.03231]), array([15.71996, -0.58767,  0.70556]), array([24.,  0.,  0.])]\n"
     ]
    }
   ],
   "source": [
    "# coordinates obtained by building a molecule in the program IQMol\n",
    "h2o = np.array([[ 0,        0,       0      ],  # oxygen\n",
    "                [ 0.95908, -0.02691, 0.03231],  # hydrogen\n",
    "                [-0.28004, -0.58767, 0.70556]]) # hydrogen\n",
    "\n",
    "# define a grid\n",
    "grid_size = 10\n",
    "spacing = 8\n",
    "\n",
    "coordinates = []\n",
    "\n",
    "# translating h2o coordinates around a grid\n",
    "for i in range(n_residues):\n",
    "    x = spacing * (i % grid_size)\n",
    "    y = spacing * ((i // grid_size) % grid_size)\n",
    "    z = spacing * (i // (grid_size * grid_size))\n",
    "\n",
    "    xyz = np.array([x, y, z])\n",
    "\n",
    "    coordinates.extend(h2o + xyz.T)\n",
    "\n",
    "print(coordinates[:10])\n",
    "\n",
    "# add coordinates to the Universe\n",
    "coord_array = np.array(coordinates)\n",
    "assert coord_array.shape == (n_atoms, 3)\n",
    "sol.atoms.positions = coord_array"
   ]
  },
  {
   "cell_type": "code",
   "execution_count": 6,
   "metadata": {},
   "outputs": [
    {
     "data": {
      "application/vnd.jupyter.widget-view+json": {
       "model_id": "352d4f9576cc4ef1bb73890fb81b4066",
       "version_major": 2,
       "version_minor": 0
      },
      "text/plain": [
       "NGLWidget()"
      ]
     },
     "metadata": {},
     "output_type": "display_data"
    }
   ],
   "source": [
    "# view the file with NGLView\n",
    "sol_view = nv.show_mdanalysis(sol)\n",
    "sol_view.add_representation('ball+stick', selection='all')\n",
    "sol_view.center()\n",
    "sol_view"
   ]
  },
  {
   "cell_type": "markdown",
   "metadata": {},
   "source": [
    "### Adding bonds\n",
    "Currently, the sol universe doesn’t contain any bonds."
   ]
  },
  {
   "cell_type": "code",
   "execution_count": 7,
   "metadata": {},
   "outputs": [],
   "source": [
    "assert not hasattr(sol, 'bonds')"
   ]
  },
  {
   "cell_type": "markdown",
   "metadata": {},
   "source": [
    "They can be important for defining ‘fragments’, which are groups of atoms where every atom is connected by a bond to another atom in the group (i.e. what is commonly called a molecule). You can pass a list of tuples of atom indices to add bonds as a topology attribute."
   ]
  },
  {
   "cell_type": "code",
   "execution_count": 8,
   "metadata": {},
   "outputs": [
    {
     "name": "stdout",
     "output_type": "stream",
     "text": [
      "[(0, 1), (0, 2), (3, 4), (3, 5), (6, 7), (6, 8), (9, 10), (9, 11), (12, 13), (12, 14)]\n",
      "<TopologyGroup containing 2000 bonds>\n"
     ]
    }
   ],
   "source": [
    "# create bonds\n",
    "bonds = []\n",
    "for o in range(0, n_atoms, 3):\n",
    "    bonds.extend([(o, o+1), (o, o+2)])\n",
    "\n",
    "print(bonds[:10])\n",
    "\n",
    "# add bonds to the Universe\n",
    "sol.add_TopologyAttr('bonds', bonds)\n",
    "print(sol.bonds)"
   ]
  },
  {
   "cell_type": "markdown",
   "metadata": {},
   "source": [
    "The bonds associated with each atom or the bonds within an AtomGroup can be accessed with the `bonds` attribute:"
   ]
  },
  {
   "cell_type": "code",
   "execution_count": 9,
   "metadata": {},
   "outputs": [
    {
     "name": "stdout",
     "output_type": "stream",
     "text": [
      "<TopologyGroup containing 2 bonds>\n",
      "<TopologyGroup containing 7 bonds>\n"
     ]
    }
   ],
   "source": [
    "print(sol.atoms[0].bonds)\n",
    "print(sol.atoms[-10:].bonds)"
   ]
  },
  {
   "cell_type": "markdown",
   "metadata": {},
   "source": [
    "## Merging with a protein\n",
    "Now we can merge the water with a protein to create a combined system by using MDAnalysis.Merge to combine AtomGroup instances.  \n",
    "\n",
    "The protein is adenylate kinase (AdK), a phosphotransferase enzyme."
   ]
  },
  {
   "cell_type": "code",
   "execution_count": 10,
   "metadata": {},
   "outputs": [],
   "source": [
    "protein = mda.Universe(PDB_small)"
   ]
  },
  {
   "cell_type": "code",
   "execution_count": 11,
   "metadata": {},
   "outputs": [
    {
     "data": {
      "application/vnd.jupyter.widget-view+json": {
       "model_id": "052d23d86c0f4e15ab68203e911f4f98",
       "version_major": 2,
       "version_minor": 0
      },
      "text/plain": [
       "NGLWidget()"
      ]
     },
     "metadata": {},
     "output_type": "display_data"
    }
   ],
   "source": [
    "protein_view = nv.show_mdanalysis(protein)\n",
    "protein_view"
   ]
  },
  {
   "cell_type": "markdown",
   "metadata": {},
   "source": [
    "We will translate the centers of both systems to the origin, so they can overlap in space."
   ]
  },
  {
   "cell_type": "code",
   "execution_count": 12,
   "metadata": {},
   "outputs": [
    {
     "name": "stdout",
     "output_type": "stream",
     "text": [
      "Original solvent center of geometry:  [36.22634681 35.79514029 36.24595657]\n",
      "New solvent center of geometry:  [ 2.78155009e-07 -1.27156576e-07  3.97364299e-08]\n",
      "Original protein center of geometry:  [-3.66508082  9.60502842 14.33355791]\n",
      "New protein center of geometry:  [8.30580288e-08 3.49225059e-08 2.51332265e-08]\n"
     ]
    }
   ],
   "source": [
    "# center of geometry for solvent\n",
    "cog = sol.atoms.center_of_geometry()\n",
    "print('Original solvent center of geometry: ', cog)\n",
    "sol.atoms.positions -= cog\n",
    "cog2 = sol.atoms.center_of_geometry()\n",
    "print('New solvent center of geometry: ', cog2)\n",
    "\n",
    "\n",
    "# center of geometry for protein\n",
    "cog = protein.atoms.center_of_geometry()\n",
    "print('Original protein center of geometry: ', cog)\n",
    "protein.atoms.positions -= cog\n",
    "cog2 = protein.atoms.center_of_geometry()\n",
    "print('New protein center of geometry: ', cog2)"
   ]
  },
  {
   "cell_type": "code",
   "execution_count": 13,
   "metadata": {},
   "outputs": [
    {
     "data": {
      "application/vnd.jupyter.widget-view+json": {
       "model_id": "f5d97820946a4827abc7d68cf868dcd4",
       "version_major": 2,
       "version_minor": 0
      },
      "text/plain": [
       "NGLWidget()"
      ]
     },
     "metadata": {},
     "output_type": "display_data"
    }
   ],
   "source": [
    "# combine the two systems\n",
    "combined = mda.Merge(protein.atoms, sol.atoms)\n",
    "\n",
    "# view the combined system\n",
    "combined_view = nv.show_mdanalysis(combined)\n",
    "combined_view.add_representation('ball+stick', selection='not protein')\n",
    "combined_view"
   ]
  },
  {
   "cell_type": "markdown",
   "metadata": {},
   "source": [
    "Unfortunately, some water molecules overlap with the protein. We can create a new AtomGroup containing only the molecules where every atom is further away than 6 angstroms from the protein."
   ]
  },
  {
   "cell_type": "code",
   "execution_count": 14,
   "metadata": {},
   "outputs": [
    {
     "data": {
      "application/vnd.jupyter.widget-view+json": {
       "model_id": "502293eca170451981f387c0168ec19b",
       "version_major": 2,
       "version_minor": 0
      },
      "text/plain": [
       "NGLWidget()"
      ]
     },
     "metadata": {},
     "output_type": "display_data"
    }
   ],
   "source": [
    "# select all atoms not within 6 Angstroms of the protein\n",
    "no_overlap = combined.select_atoms('same resid as (not around 6 protein)')\n",
    "u = mda.Merge(no_overlap)\n",
    "\n",
    "# view the combined system\n",
    "no_overlap_view = nv.show_mdanalysis(u)\n",
    "no_overlap_view.add_representation('ball+stick', selection='not protein')\n",
    "no_overlap_view"
   ]
  },
  {
   "cell_type": "markdown",
   "metadata": {},
   "source": [
    "## Adding a new segment\n",
    "Often you may want to assign atoms to a segment or chain – for example, adding segment IDs to a PDB file. This requires adding a new Segment with Universe.add_Segment.\n",
    "\n",
    "Adenylate kinase has three domains: CORE, NMP, and LID:\n",
    "* CORE: residues 1-29, 60-121, 160-214 (gray)\n",
    "* NMP: residues 30-59 (blue)\n",
    "* LID: residues 122-159 (yellow)"
   ]
  },
  {
   "cell_type": "code",
   "execution_count": 15,
   "metadata": {},
   "outputs": [
    {
     "data": {
      "text/plain": [
       "array(['4AKE', 'SOL'], dtype=object)"
      ]
     },
     "execution_count": 15,
     "metadata": {},
     "output_type": "execute_result"
    }
   ],
   "source": [
    "# On examining the Universe, we can see that the protein and solvent are already \n",
    "# divided into two segments: protein (‘4AKE’) and solvent (‘SOL’). \n",
    "# We will add three more segments (CORE, NMP, and LID) and assign atoms to them.\n",
    "\n",
    "u.segments.segids"
   ]
  },
  {
   "cell_type": "code",
   "execution_count": 16,
   "metadata": {},
   "outputs": [
    {
     "data": {
      "text/plain": [
       "<AtomGroup with 0 atoms>"
      ]
     },
     "execution_count": 16,
     "metadata": {},
     "output_type": "execute_result"
    }
   ],
   "source": [
    "# add a segment to the universe (empty)\n",
    "core_segment = u.add_Segment(segid='CORE')\n",
    "core_segment.atoms"
   ]
  },
  {
   "cell_type": "code",
   "execution_count": 17,
   "metadata": {},
   "outputs": [
    {
     "data": {
      "text/plain": [
       "<AtomGroup with 2744 atoms>"
      ]
     },
     "execution_count": 17,
     "metadata": {},
     "output_type": "execute_result"
    }
   ],
   "source": [
    "# assign the segments attribute of their residues\n",
    "core_atoms = u.select_atoms('resid 1:29 or resid 60:121 or resid 160-214')\n",
    "core_atoms.residues.segments = core_segment\n",
    "core_segment.atoms"
   ]
  },
  {
   "cell_type": "code",
   "execution_count": 18,
   "metadata": {},
   "outputs": [],
   "source": [
    "nmp_segment = u.add_Segment(segid='NMP')\n",
    "lid_segment = u.add_Segment(segid='LID')\n",
    "\n",
    "nmp_atoms = u.select_atoms('resid 30:59')\n",
    "nmp_atoms.residues.segments = nmp_segment\n",
    "\n",
    "lid_atoms = u.select_atoms('resid 122:159')\n",
    "lid_atoms.residues.segments = lid_segment"
   ]
  },
  {
   "cell_type": "code",
   "execution_count": 19,
   "metadata": {},
   "outputs": [],
   "source": [
    "# add the topologyattr to the universe\n",
    "u.add_TopologyAttr(\"chainID\")\n",
    "core_segment.atoms.chainIDs = \"C\"\n",
    "nmp_segment.atoms.chainIDs = \"N\"\n",
    "lid_segment.atoms.chainIDs = \"L\""
   ]
  },
  {
   "cell_type": "code",
   "execution_count": 20,
   "metadata": {},
   "outputs": [
    {
     "data": {
      "application/vnd.jupyter.widget-view+json": {
       "model_id": "b0e259c3b94b4fdabba836d34d323f4e",
       "version_major": 2,
       "version_minor": 0
      },
      "text/plain": [
       "NGLWidget()"
      ]
     },
     "metadata": {},
     "output_type": "display_data"
    }
   ],
   "source": [
    "domain_view = nv.show_mdanalysis(u)\n",
    "domain_view.add_representation(\"protein\", color_scheme=\"chainID\")\n",
    "domain_view"
   ]
  },
  {
   "cell_type": "markdown",
   "metadata": {},
   "source": [
    "## Tiling into a larger Universe\n",
    "We can use MDAnalysis to tile out a smaller Universe into a bigger one, similarly to `editconf` in GROMACS. To start off, we need to figure out the box size. The default in MDAnalysis is a zero vector. The first three numbers represent the length of each axis, and the last three represent the alpha, beta, and gamma angles of a triclinic box."
   ]
  },
  {
   "cell_type": "code",
   "execution_count": 21,
   "metadata": {},
   "outputs": [
    {
     "name": "stdout",
     "output_type": "stream",
     "text": [
      "None\n"
     ]
    }
   ],
   "source": [
    "#  The default in MDAnalysis is a zero vector. \n",
    "print(u.dimensions)"
   ]
  },
  {
   "cell_type": "code",
   "execution_count": 22,
   "metadata": {},
   "outputs": [
    {
     "data": {
      "text/plain": [
       "73.23912"
      ]
     },
     "execution_count": 22,
     "metadata": {},
     "output_type": "execute_result"
    }
   ],
   "source": [
    "max(u.atoms.positions[:, 0]) - min(u.atoms.positions[:, 0])\n",
    "# We know that our system is cubic in shape, so we can assume angles of 90°. \n",
    "# The difference between the lowest and highest x-axis positions is roughly 73 Angstroms."
   ]
  },
  {
   "cell_type": "code",
   "execution_count": 23,
   "metadata": {},
   "outputs": [],
   "source": [
    "# set the dimensions of the universe\n",
    "u.dimensions = [73, 73, 73, 90, 90, 90]\n",
    "# The first three numbers represent the length of each axis, and \n",
    "# the last three represent the alpha, beta, and gamma angles of a triclinic box."
   ]
  },
  {
   "cell_type": "code",
   "execution_count": 24,
   "metadata": {},
   "outputs": [],
   "source": [
    "# To tile out a Universe, we need to copy it and translate the atoms by the box dimensions. \n",
    "# We can then merge the cells into one large Universe and assign new dimensions.\n",
    "\n",
    "def tile_universe(universe, n_x, n_y, n_z):\n",
    "    box = universe.dimensions[:3]\n",
    "    copied = []\n",
    "    for x in range(n_x):\n",
    "        for y in range(n_y):\n",
    "            for z in range(n_z):\n",
    "                u_ = universe.copy()\n",
    "                move_by = box*(x, y, z)\n",
    "                u_.atoms.translate(move_by)\n",
    "                copied.append(u_.atoms)\n",
    "\n",
    "    new_universe = mda.Merge(*copied)\n",
    "    new_box = box*(n_x, n_y, n_z)\n",
    "    new_universe.dimensions = list(new_box) + [90]*3\n",
    "    return new_universe"
   ]
  },
  {
   "cell_type": "code",
   "execution_count": 25,
   "metadata": {},
   "outputs": [],
   "source": [
    "# 2 x 2 x 2 version of our original unit cell\n",
    "tiled = tile_universe(u, 2, 2, 2)"
   ]
  },
  {
   "cell_type": "code",
   "execution_count": 26,
   "metadata": {},
   "outputs": [
    {
     "data": {
      "application/vnd.jupyter.widget-view+json": {
       "model_id": "bed30c4ffec0444e889ee83b0c69f5d8",
       "version_major": 2,
       "version_minor": 0
      },
      "text/plain": [
       "NGLWidget()"
      ]
     },
     "metadata": {},
     "output_type": "display_data"
    }
   ],
   "source": [
    "tiled_view = nv.show_mdanalysis(tiled)\n",
    "tiled_view"
   ]
  }
 ],
 "metadata": {
  "kernelspec": {
   "display_name": "mdanalysis",
   "language": "python",
   "name": "python3"
  },
  "language_info": {
   "codemirror_mode": {
    "name": "ipython",
    "version": 3
   },
   "file_extension": ".py",
   "mimetype": "text/x-python",
   "name": "python",
   "nbconvert_exporter": "python",
   "pygments_lexer": "ipython3",
   "version": "3.10.13"
  }
 },
 "nbformat": 4,
 "nbformat_minor": 2
}
