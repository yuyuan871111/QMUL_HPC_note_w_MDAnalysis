{
 "cells": [
  {
   "cell_type": "markdown",
   "metadata": {},
   "source": [
    "## image"
   ]
  },
  {
   "cell_type": "code",
   "execution_count": 8,
   "metadata": {},
   "outputs": [],
   "source": [
    "import time\n",
    "import threading\n",
    "\n",
    "import nglview as nv\n"
   ]
  },
  {
   "cell_type": "code",
   "execution_count": 9,
   "metadata": {},
   "outputs": [
    {
     "data": {
      "application/vnd.jupyter.widget-view+json": {
       "model_id": "e699a2e5cf0348708e7ef42f6d45c02f",
       "version_major": 2,
       "version_minor": 0
      },
      "text/plain": [
       "NGLWidget()"
      ]
     },
     "metadata": {},
     "output_type": "display_data"
    }
   ],
   "source": [
    "view = nv.demo()\n",
    "view"
   ]
  },
  {
   "cell_type": "code",
   "execution_count": 10,
   "metadata": {},
   "outputs": [],
   "source": [
    "output_folder = '/home/yuyang/Project/QMUL_HPC_note_w_MDAnalysis/Tutorial_notebook/output'\n",
    "\n",
    "def generate_images(v=view, output=output_folder):\n",
    "    v.clear()\n",
    "    v.add_cartoon(color='red')\n",
    "    im0 = v.render_image()\n",
    "    v.clear()\n",
    "    v.add_cartoon(color='blue')\n",
    "    im1 = v.render_image()\n",
    "    for im in [im0, im1]:\n",
    "        while not im.value:\n",
    "            time.sleep(0.1)\n",
    "    for n, im in zip('ab', [im0, im1]):\n",
    "        with open(f'{output}/figure_{n}.png', 'wb') as fh:\n",
    "            fh.write(im.value)\n",
    "\n",
    "thread = threading.Thread(\n",
    "    target = generate_images,\n",
    ")\n",
    "thread.daemon = True\n",
    "thread.start()"
   ]
  },
  {
   "cell_type": "markdown",
   "metadata": {},
   "source": [
    "## movie"
   ]
  },
  {
   "cell_type": "markdown",
   "metadata": {},
   "source": [
    "### loading files"
   ]
  },
  {
   "cell_type": "code",
   "execution_count": 11,
   "metadata": {},
   "outputs": [
    {
     "data": {
      "application/vnd.jupyter.widget-view+json": {
       "model_id": "37efbe9703604c179a49d514d821002d",
       "version_major": 2,
       "version_minor": 0
      },
      "text/plain": [
       "NGLWidget(max_frame=97)"
      ]
     },
     "metadata": {},
     "output_type": "display_data"
    }
   ],
   "source": [
    "import os\n",
    "\n",
    "import nglview as nv\n",
    "import MDAnalysis as mda\n",
    "import moviepy.editor as mpy\n",
    "\n",
    "from MDAnalysis.tests.datafiles import PSF, DCD\n",
    "from nglview.contrib.movie import MovieMaker\n",
    "from time import sleep\n",
    "\n",
    "u1 = mda.Universe(PSF, DCD)\n",
    "\n",
    "view = nv.show_mdanalysis(u1)\n",
    "view"
   ]
  },
  {
   "cell_type": "markdown",
   "metadata": {},
   "source": [
    "#### Use movie maler in NGL view (broken)"
   ]
  },
  {
   "cell_type": "code",
   "execution_count": 12,
   "metadata": {},
   "outputs": [],
   "source": [
    "# broken, wait for update the package\n",
    "\n",
    "# movie = MovieMaker(view, \n",
    "#                    output='my.gif', \n",
    "#                    in_memory=True)\n",
    "# movie.make()\n"
   ]
  },
  {
   "cell_type": "markdown",
   "metadata": {},
   "source": [
    "#### Generate images using thread"
   ]
  },
  {
   "cell_type": "code",
   "execution_count": 13,
   "metadata": {},
   "outputs": [],
   "source": [
    "# output folder\n",
    "\n",
    "output_folder = \"/home/yuyang/Project/QMUL_HPC_note_w_MDAnalysis/Tutorial_notebook/output\""
   ]
  },
  {
   "cell_type": "code",
   "execution_count": 15,
   "metadata": {},
   "outputs": [],
   "source": [
    "import threading\n",
    "\n",
    "def generate_images(v=view, output=output_folder, total_frame=10):\n",
    "    images = [] # List[bytes]\n",
    "\n",
    "    for frame in range(0, total_frame):\n",
    "        # set frame to update coordinates\n",
    "        v.frame = frame\n",
    "        # make sure to let NGL spending enough time to update coordinates\n",
    "        sleep(0.5)\n",
    "        im1 = v.render_image()\n",
    "        images.append(im1)\n",
    "\n",
    "    for im in images: # wait for browser to finish rendering\n",
    "        while not im.value:\n",
    "            sleep(0.1)\n",
    "    \n",
    "    # create _temp folder\n",
    "    if not os.path.exists(f'{output}/_temp'):\n",
    "        os.makedirs(f'{output}/_temp')\n",
    "\n",
    "    for n, im in zip(range(0, total_frame), images):\n",
    "        with open(f'{output}/_temp/0figure_{n}.png', 'wb') as fh:\n",
    "            fh.write(im.value)\n",
    "\n",
    "thread = threading.Thread(\n",
    "    target=generate_images,\n",
    ")\n",
    "thread.daemon = True\n",
    "thread.start()"
   ]
  },
  {
   "cell_type": "markdown",
   "metadata": {},
   "source": [
    "#### Download images using `download_image` in NGL view (slow, manually)"
   ]
  },
  {
   "cell_type": "code",
   "execution_count": null,
   "metadata": {},
   "outputs": [],
   "source": [
    "# make sure to change your web browser option to save files as default (vs open file by external program)\n",
    "# NGLView will render each snapshot and save image to your web browser default download location\n",
    "# uncomment all the commands below to render\n",
    "\n",
    "# to save time for this tutorial, we make a movie with only 50 frames\n",
    "for frame in range(0, 10):\n",
    "    # set frame to update coordinates\n",
    "    view.frame = frame\n",
    "    # make sure to let NGL spending enough time to update coordinates\n",
    "    sleep(0.5)\n",
    "    view.download_image(filename='0figure_{}.png'.format(frame))\n",
    "    # make sure to let NGL spending enough time to render before going to next frame\n",
    "    sleep(2.0)"
   ]
  },
  {
   "cell_type": "markdown",
   "metadata": {},
   "source": [
    "#### Loading images"
   ]
  },
  {
   "cell_type": "code",
   "execution_count": 16,
   "metadata": {},
   "outputs": [],
   "source": [
    "# In my case, my default download folder is /Users/haichit/Downloads/\n",
    "template = '{}/_temp/0figure_{}.png'\n",
    "\n",
    "# get all (sorted) image files\n",
    "imagefiles = [template.format(output_folder, str(i)) for i in range(0, 10, 2)]"
   ]
  },
  {
   "cell_type": "markdown",
   "metadata": {},
   "source": [
    "#### Assemble images to movie"
   ]
  },
  {
   "cell_type": "code",
   "execution_count": 18,
   "metadata": {},
   "outputs": [
    {
     "name": "stdout",
     "output_type": "stream",
     "text": [
      "\n",
      "[MoviePy] Building file /home/yuyang/Project/QMUL_HPC_note_w_MDAnalysis/Tutorial_notebook/output/my_movie.gif with imageio\n"
     ]
    },
    {
     "name": "stderr",
     "output_type": "stream",
     "text": [
      " 83%|████████▎ | 5/6 [00:00<00:00,  9.52it/s]\n"
     ]
    }
   ],
   "source": [
    "# make a gif file\n",
    "\n",
    "frame_per_second = 3\n",
    "im = mpy.ImageSequenceClip(imagefiles, fps=frame_per_second)\n",
    "im.write_gif(f'{output_folder}/my_movie.gif', fps=frame_per_second)"
   ]
  },
  {
   "cell_type": "markdown",
   "metadata": {},
   "source": [
    "#### Display video in notebook"
   ]
  },
  {
   "cell_type": "code",
   "execution_count": 19,
   "metadata": {},
   "outputs": [
    {
     "data": {
      "text/html": [
       "<img src='/home/yuyang/Project/QMUL_HPC_note_w_MDAnalysis/Tutorial_notebook/output/my_movie.gif'></img>"
      ],
      "text/plain": [
       "<IPython.core.display.HTML object>"
      ]
     },
     "execution_count": 19,
     "metadata": {},
     "output_type": "execute_result"
    }
   ],
   "source": [
    "# display the gif in this notebook\n",
    "from IPython import display\n",
    "\n",
    "display.HTML(f\"<img src='{output_folder}/my_movie.gif'></img>\")"
   ]
  }
 ],
 "metadata": {
  "kernelspec": {
   "display_name": "mdanalysis2",
   "language": "python",
   "name": "python3"
  },
  "language_info": {
   "codemirror_mode": {
    "name": "ipython",
    "version": 3
   },
   "file_extension": ".py",
   "mimetype": "text/x-python",
   "name": "python",
   "nbconvert_exporter": "python",
   "pygments_lexer": "ipython3",
   "version": "3.10.13"
  }
 },
 "nbformat": 4,
 "nbformat_minor": 2
}
